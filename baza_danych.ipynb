{
 "cells": [
  {
   "cell_type": "code",
   "execution_count": 52,
   "id": "ef56bde0-02e9-42b9-b019-6e07d56c112a",
   "metadata": {},
   "outputs": [],
   "source": [
    "import pandas as pd\n",
    "from sqlalchemy import create_engine, Table, Column, Integer, String, Float, MetaData\n",
    "from sqlalchemy import text"
   ]
  },
  {
   "cell_type": "code",
   "execution_count": 53,
   "id": "f43fcd72-342a-435e-8f78-f013b0060104",
   "metadata": {},
   "outputs": [],
   "source": [
    "stations_df = pd.read_csv('clean_stations.csv')\n",
    "measurements_df = pd.read_csv('clean_measure.csv')"
   ]
  },
  {
   "cell_type": "code",
   "execution_count": 54,
   "id": "0965028c-8dfd-4f77-8496-d7bc255087c3",
   "metadata": {},
   "outputs": [],
   "source": [
    "engine = create_engine('sqlite:///database.db', echo=True)\n",
    "meta = MetaData()"
   ]
  },
  {
   "cell_type": "code",
   "execution_count": 55,
   "id": "8c02f163-f1ff-4e34-804e-918d4cd8f159",
   "metadata": {},
   "outputs": [],
   "source": [
    "stations = Table(\n",
    "    'stations', meta,\n",
    "    Column('id', Integer, primary_key=True),\n",
    "    Column('station', String),  \n",
    "    Column('latitude', Float),\n",
    "    Column('longitude', Float),\n",
    "    Column('elevation', Float),\n",
    "    Column('name', String),\n",
    "    Column('country', String),\n",
    "    Column('state', String),\n",
    ")\n",
    "\n",
    "measurements = Table(\n",
    "    'measurements', meta,\n",
    "    Column('id', Integer, primary_key=True),\n",
    "    Column('station', String),  \n",
    "    Column('date', String),  \n",
    "    Column('precip', Float),\n",
    "    Column('tobs', Float),\n",
    ")"
   ]
  },
  {
   "cell_type": "code",
   "execution_count": 56,
   "id": "133cbf00-717e-4470-be9a-dbe9b7f859ce",
   "metadata": {},
   "outputs": [
    {
     "name": "stdout",
     "output_type": "stream",
     "text": [
      "2024-11-11 22:40:55,426 INFO sqlalchemy.engine.Engine BEGIN (implicit)\n",
      "2024-11-11 22:40:55,427 INFO sqlalchemy.engine.Engine PRAGMA main.table_info(\"stations\")\n",
      "2024-11-11 22:40:55,429 INFO sqlalchemy.engine.Engine [raw sql] ()\n",
      "2024-11-11 22:40:55,430 INFO sqlalchemy.engine.Engine PRAGMA main.table_info(\"measurements\")\n",
      "2024-11-11 22:40:55,431 INFO sqlalchemy.engine.Engine [raw sql] ()\n",
      "2024-11-11 22:40:55,432 INFO sqlalchemy.engine.Engine COMMIT\n"
     ]
    }
   ],
   "source": [
    "meta.create_all(engine)"
   ]
  },
  {
   "cell_type": "code",
   "execution_count": 57,
   "id": "0f583e34-13c3-4aea-a5c3-402ceba72168",
   "metadata": {},
   "outputs": [],
   "source": [
    "conn = engine.connect()"
   ]
  },
  {
   "cell_type": "code",
   "execution_count": 58,
   "id": "0b6c4b01-a3ad-4c57-aa83-da7b4788963a",
   "metadata": {},
   "outputs": [
    {
     "name": "stdout",
     "output_type": "stream",
     "text": [
      "2024-11-11 22:40:56,033 INFO sqlalchemy.engine.Engine BEGIN (implicit)\n",
      "2024-11-11 22:40:56,036 INFO sqlalchemy.engine.Engine PRAGMA main.table_info(\"stations\")\n",
      "2024-11-11 22:40:56,037 INFO sqlalchemy.engine.Engine [raw sql] ()\n",
      "2024-11-11 22:40:56,037 INFO sqlalchemy.engine.Engine PRAGMA main.table_info(\"stations\")\n",
      "2024-11-11 22:40:56,038 INFO sqlalchemy.engine.Engine [raw sql] ()\n",
      "2024-11-11 22:40:56,040 INFO sqlalchemy.engine.Engine SELECT name FROM sqlite_master WHERE type='table' AND name NOT LIKE 'sqlite~_%' ESCAPE '~' ORDER BY name\n",
      "2024-11-11 22:40:56,041 INFO sqlalchemy.engine.Engine [raw sql] ()\n",
      "2024-11-11 22:40:56,042 INFO sqlalchemy.engine.Engine SELECT name FROM sqlite_master WHERE type='view' AND name NOT LIKE 'sqlite~_%' ESCAPE '~' ORDER BY name\n",
      "2024-11-11 22:40:56,043 INFO sqlalchemy.engine.Engine [raw sql] ()\n",
      "2024-11-11 22:40:56,044 INFO sqlalchemy.engine.Engine PRAGMA main.table_xinfo(\"stations\")\n",
      "2024-11-11 22:40:56,044 INFO sqlalchemy.engine.Engine [raw sql] ()\n",
      "2024-11-11 22:40:56,045 INFO sqlalchemy.engine.Engine SELECT sql FROM  (SELECT * FROM sqlite_master UNION ALL   SELECT * FROM sqlite_temp_master) WHERE name = ? AND type in ('table', 'view')\n",
      "2024-11-11 22:40:56,046 INFO sqlalchemy.engine.Engine [raw sql] ('stations',)\n",
      "2024-11-11 22:40:56,047 INFO sqlalchemy.engine.Engine PRAGMA main.foreign_key_list(\"stations\")\n",
      "2024-11-11 22:40:56,048 INFO sqlalchemy.engine.Engine [raw sql] ()\n",
      "2024-11-11 22:40:56,049 INFO sqlalchemy.engine.Engine PRAGMA temp.foreign_key_list(\"stations\")\n",
      "2024-11-11 22:40:56,049 INFO sqlalchemy.engine.Engine [raw sql] ()\n",
      "2024-11-11 22:40:56,050 INFO sqlalchemy.engine.Engine SELECT sql FROM  (SELECT * FROM sqlite_master UNION ALL   SELECT * FROM sqlite_temp_master) WHERE name = ? AND type in ('table', 'view')\n",
      "2024-11-11 22:40:56,050 INFO sqlalchemy.engine.Engine [raw sql] ('stations',)\n",
      "2024-11-11 22:40:56,052 INFO sqlalchemy.engine.Engine PRAGMA main.index_list(\"stations\")\n",
      "2024-11-11 22:40:56,052 INFO sqlalchemy.engine.Engine [raw sql] ()\n",
      "2024-11-11 22:40:56,053 INFO sqlalchemy.engine.Engine PRAGMA temp.index_list(\"stations\")\n",
      "2024-11-11 22:40:56,054 INFO sqlalchemy.engine.Engine [raw sql] ()\n",
      "2024-11-11 22:40:56,054 INFO sqlalchemy.engine.Engine PRAGMA main.table_info(\"stations\")\n",
      "2024-11-11 22:40:56,055 INFO sqlalchemy.engine.Engine [raw sql] ()\n",
      "2024-11-11 22:40:56,055 INFO sqlalchemy.engine.Engine PRAGMA main.index_list(\"stations\")\n",
      "2024-11-11 22:40:56,056 INFO sqlalchemy.engine.Engine [raw sql] ()\n",
      "2024-11-11 22:40:56,056 INFO sqlalchemy.engine.Engine PRAGMA temp.index_list(\"stations\")\n",
      "2024-11-11 22:40:56,056 INFO sqlalchemy.engine.Engine [raw sql] ()\n",
      "2024-11-11 22:40:56,058 INFO sqlalchemy.engine.Engine PRAGMA main.table_info(\"stations\")\n",
      "2024-11-11 22:40:56,058 INFO sqlalchemy.engine.Engine [raw sql] ()\n",
      "2024-11-11 22:40:56,060 INFO sqlalchemy.engine.Engine SELECT sql FROM  (SELECT * FROM sqlite_master UNION ALL   SELECT * FROM sqlite_temp_master) WHERE name = ? AND type in ('table', 'view')\n",
      "2024-11-11 22:40:56,060 INFO sqlalchemy.engine.Engine [raw sql] ('stations',)\n",
      "2024-11-11 22:40:56,063 INFO sqlalchemy.engine.Engine \n",
      "DROP TABLE stations\n",
      "2024-11-11 22:40:56,064 INFO sqlalchemy.engine.Engine [no key 0.00089s] ()\n",
      "2024-11-11 22:40:56,068 INFO sqlalchemy.engine.Engine \n",
      "CREATE TABLE stations (\n",
      "\tstation TEXT, \n",
      "\tlatitude FLOAT, \n",
      "\tlongitude FLOAT, \n",
      "\televation FLOAT, \n",
      "\tname TEXT, \n",
      "\tcountry TEXT, \n",
      "\tstate TEXT\n",
      ")\n",
      "\n",
      "\n",
      "2024-11-11 22:40:56,069 INFO sqlalchemy.engine.Engine [no key 0.00085s] ()\n",
      "2024-11-11 22:40:56,073 INFO sqlalchemy.engine.Engine INSERT INTO stations (station, latitude, longitude, elevation, name, country, state) VALUES (?, ?, ?, ?, ?, ?, ?)\n",
      "2024-11-11 22:40:56,074 INFO sqlalchemy.engine.Engine [generated in 0.00117s] [('USC00519397', 21.2716, -157.8168, 3.0, 'WAIKIKI 717.2', 'US', 'HI'), ('USC00513117', 21.4234, -157.8015, 14.6, 'KANEOHE 838.1', 'US', 'HI'), ('USC00514830', 21.5213, -157.8374, 7.0, 'KUALOA RANCH HEADQUARTERS 886.9', 'US', 'HI'), ('USC00517948', 21.3934, -157.9751, 11.9, 'PEARL CITY', 'US', 'HI'), ('USC00518838', 21.4992, -158.0111, 306.6, 'UPPER WAHIAWA 874.3', 'US', 'HI'), ('USC00519523', 21.33556, -157.71139, 19.5, 'WAIMANALO EXPERIMENTAL FARM', 'US', 'HI'), ('USC00519281', 21.45167, -157.84888999999998, 32.9, 'WAIHEE 837.5', 'US', 'HI'), ('USC00511918', 21.3152, -157.9992, 0.9, 'HONOLULU OBSERVATORY 702.2', 'US', 'HI'), ('USC00516128', 21.3331, -157.8025, 152.4, 'MANOA LYON ARBO 785.2', 'US', 'HI')]\n",
      "2024-11-11 22:40:56,076 INFO sqlalchemy.engine.Engine COMMIT\n"
     ]
    },
    {
     "data": {
      "text/plain": [
       "9"
      ]
     },
     "execution_count": 58,
     "metadata": {},
     "output_type": "execute_result"
    }
   ],
   "source": [
    "stations_df.to_sql('stations', conn, if_exists='replace', index=False)"
   ]
  },
  {
   "cell_type": "code",
   "execution_count": 59,
   "id": "bc42b522-0cf3-4b79-b53f-a90000655651",
   "metadata": {},
   "outputs": [
    {
     "name": "stdout",
     "output_type": "stream",
     "text": [
      "2024-11-11 22:40:56,278 INFO sqlalchemy.engine.Engine BEGIN (implicit)\n",
      "2024-11-11 22:40:56,280 INFO sqlalchemy.engine.Engine PRAGMA main.table_info(\"measurements\")\n",
      "2024-11-11 22:40:56,280 INFO sqlalchemy.engine.Engine [raw sql] ()\n",
      "2024-11-11 22:40:56,282 INFO sqlalchemy.engine.Engine PRAGMA main.table_info(\"measurements\")\n",
      "2024-11-11 22:40:56,283 INFO sqlalchemy.engine.Engine [raw sql] ()\n",
      "2024-11-11 22:40:56,284 INFO sqlalchemy.engine.Engine SELECT name FROM sqlite_master WHERE type='table' AND name NOT LIKE 'sqlite~_%' ESCAPE '~' ORDER BY name\n",
      "2024-11-11 22:40:56,285 INFO sqlalchemy.engine.Engine [raw sql] ()\n",
      "2024-11-11 22:40:56,286 INFO sqlalchemy.engine.Engine SELECT name FROM sqlite_master WHERE type='view' AND name NOT LIKE 'sqlite~_%' ESCAPE '~' ORDER BY name\n",
      "2024-11-11 22:40:56,287 INFO sqlalchemy.engine.Engine [raw sql] ()\n",
      "2024-11-11 22:40:56,288 INFO sqlalchemy.engine.Engine PRAGMA main.table_xinfo(\"measurements\")\n",
      "2024-11-11 22:40:56,289 INFO sqlalchemy.engine.Engine [raw sql] ()\n",
      "2024-11-11 22:40:56,289 INFO sqlalchemy.engine.Engine SELECT sql FROM  (SELECT * FROM sqlite_master UNION ALL   SELECT * FROM sqlite_temp_master) WHERE name = ? AND type in ('table', 'view')\n",
      "2024-11-11 22:40:56,290 INFO sqlalchemy.engine.Engine [raw sql] ('measurements',)\n",
      "2024-11-11 22:40:56,291 INFO sqlalchemy.engine.Engine PRAGMA main.foreign_key_list(\"measurements\")\n",
      "2024-11-11 22:40:56,291 INFO sqlalchemy.engine.Engine [raw sql] ()\n",
      "2024-11-11 22:40:56,291 INFO sqlalchemy.engine.Engine PRAGMA temp.foreign_key_list(\"measurements\")\n",
      "2024-11-11 22:40:56,291 INFO sqlalchemy.engine.Engine [raw sql] ()\n",
      "2024-11-11 22:40:56,291 INFO sqlalchemy.engine.Engine SELECT sql FROM  (SELECT * FROM sqlite_master UNION ALL   SELECT * FROM sqlite_temp_master) WHERE name = ? AND type in ('table', 'view')\n",
      "2024-11-11 22:40:56,293 INFO sqlalchemy.engine.Engine [raw sql] ('measurements',)\n",
      "2024-11-11 22:40:56,294 INFO sqlalchemy.engine.Engine PRAGMA main.index_list(\"measurements\")\n",
      "2024-11-11 22:40:56,295 INFO sqlalchemy.engine.Engine [raw sql] ()\n",
      "2024-11-11 22:40:56,295 INFO sqlalchemy.engine.Engine PRAGMA temp.index_list(\"measurements\")\n",
      "2024-11-11 22:40:56,296 INFO sqlalchemy.engine.Engine [raw sql] ()\n",
      "2024-11-11 22:40:56,297 INFO sqlalchemy.engine.Engine PRAGMA main.table_info(\"measurements\")\n",
      "2024-11-11 22:40:56,297 INFO sqlalchemy.engine.Engine [raw sql] ()\n",
      "2024-11-11 22:40:56,298 INFO sqlalchemy.engine.Engine PRAGMA main.index_list(\"measurements\")\n",
      "2024-11-11 22:40:56,299 INFO sqlalchemy.engine.Engine [raw sql] ()\n",
      "2024-11-11 22:40:56,299 INFO sqlalchemy.engine.Engine PRAGMA temp.index_list(\"measurements\")\n",
      "2024-11-11 22:40:56,300 INFO sqlalchemy.engine.Engine [raw sql] ()\n",
      "2024-11-11 22:40:56,300 INFO sqlalchemy.engine.Engine PRAGMA main.table_info(\"measurements\")\n",
      "2024-11-11 22:40:56,301 INFO sqlalchemy.engine.Engine [raw sql] ()\n",
      "2024-11-11 22:40:56,302 INFO sqlalchemy.engine.Engine SELECT sql FROM  (SELECT * FROM sqlite_master UNION ALL   SELECT * FROM sqlite_temp_master) WHERE name = ? AND type in ('table', 'view')\n",
      "2024-11-11 22:40:56,302 INFO sqlalchemy.engine.Engine [raw sql] ('measurements',)\n",
      "2024-11-11 22:40:56,304 INFO sqlalchemy.engine.Engine \n",
      "DROP TABLE measurements\n",
      "2024-11-11 22:40:56,304 INFO sqlalchemy.engine.Engine [no key 0.00064s] ()\n",
      "2024-11-11 22:40:56,310 INFO sqlalchemy.engine.Engine \n",
      "CREATE TABLE measurements (\n",
      "\tstation TEXT, \n",
      "\tdate TEXT, \n",
      "\tprecip FLOAT, \n",
      "\ttobs BIGINT\n",
      ")\n",
      "\n",
      "\n",
      "2024-11-11 22:40:56,310 INFO sqlalchemy.engine.Engine [no key 0.00106s] ()\n",
      "2024-11-11 22:40:56,361 INFO sqlalchemy.engine.Engine INSERT INTO measurements (station, date, precip, tobs) VALUES (?, ?, ?, ?)\n",
      "2024-11-11 22:40:56,362 INFO sqlalchemy.engine.Engine [generated in 0.03309s] [('USC00519397', '2010-01-01', 0.08, 65), ('USC00519397', '2010-01-02', 0.0, 63), ('USC00519397', '2010-01-03', 0.0, 74), ('USC00519397', '2010-01-04', 0.0, 76), ('USC00519397', '2010-01-06', 0.0, 73), ('USC00519397', '2010-01-07', 0.06, 70), ('USC00519397', '2010-01-08', 0.0, 64), ('USC00519397', '2010-01-09', 0.0, 68)  ... displaying 10 of 19550 total bound parameter sets ...  ('USC00516128', '2017-08-22', 0.5, 76), ('USC00516128', '2017-08-23', 0.45, 76)]\n",
      "2024-11-11 22:40:56,387 INFO sqlalchemy.engine.Engine COMMIT\n"
     ]
    },
    {
     "data": {
      "text/plain": [
       "19550"
      ]
     },
     "execution_count": 59,
     "metadata": {},
     "output_type": "execute_result"
    }
   ],
   "source": [
    "measurements_df.to_sql('measurements', conn, if_exists='replace', index=False)"
   ]
  },
  {
   "cell_type": "code",
   "execution_count": 60,
   "id": "2c820ea3-42ca-4c78-8290-9a25bfd06098",
   "metadata": {},
   "outputs": [
    {
     "name": "stdout",
     "output_type": "stream",
     "text": [
      "2024-11-11 22:40:56,542 INFO sqlalchemy.engine.Engine BEGIN (implicit)\n",
      "2024-11-11 22:40:56,543 INFO sqlalchemy.engine.Engine SELECT * FROM stations LIMIT 5\n",
      "2024-11-11 22:40:56,544 INFO sqlalchemy.engine.Engine [generated in 0.00133s] ()\n",
      "Stations data (first 5 rows):\n",
      "('USC00519397', 21.2716, -157.8168, 3.0, 'WAIKIKI 717.2', 'US', 'HI')\n",
      "('USC00513117', 21.4234, -157.8015, 14.6, 'KANEOHE 838.1', 'US', 'HI')\n",
      "('USC00514830', 21.5213, -157.8374, 7.0, 'KUALOA RANCH HEADQUARTERS 886.9', 'US', 'HI')\n",
      "('USC00517948', 21.3934, -157.9751, 11.9, 'PEARL CITY', 'US', 'HI')\n",
      "('USC00518838', 21.4992, -158.0111, 306.6, 'UPPER WAHIAWA 874.3', 'US', 'HI')\n"
     ]
    }
   ],
   "source": [
    "result = conn.execute(text(\"SELECT * FROM stations LIMIT 5\")).fetchall()\n",
    "print(\"Stations data (first 5 rows):\")\n",
    "for row in result:\n",
    "    print(row)"
   ]
  },
  {
   "cell_type": "code",
   "execution_count": 61,
   "id": "f7608c3c-6fe6-497b-8287-9884be3e1071",
   "metadata": {},
   "outputs": [
    {
     "name": "stdout",
     "output_type": "stream",
     "text": [
      "2024-11-11 22:40:56,808 INFO sqlalchemy.engine.Engine SELECT * FROM measurements LIMIT 5\n",
      "2024-11-11 22:40:56,809 INFO sqlalchemy.engine.Engine [generated in 0.00087s] ()\n",
      "\n",
      "Measurements data (first 5 rows):\n",
      "('USC00519397', '2010-01-01', 0.08, 65)\n",
      "('USC00519397', '2010-01-02', 0.0, 63)\n",
      "('USC00519397', '2010-01-03', 0.0, 74)\n",
      "('USC00519397', '2010-01-04', 0.0, 76)\n",
      "('USC00519397', '2010-01-06', 0.0, 73)\n"
     ]
    }
   ],
   "source": [
    "result = conn.execute(text(\"SELECT * FROM measurements LIMIT 5\")).fetchall()\n",
    "print(\"\\nMeasurements data (first 5 rows):\")\n",
    "for row in result:\n",
    "    print(row)"
   ]
  },
  {
   "cell_type": "code",
   "execution_count": 62,
   "id": "6f56e715-3bf8-41c5-9579-5c32ad02c844",
   "metadata": {},
   "outputs": [
    {
     "name": "stdout",
     "output_type": "stream",
     "text": [
      "2024-11-11 22:40:57,071 INFO sqlalchemy.engine.Engine ROLLBACK\n"
     ]
    }
   ],
   "source": [
    "conn.close()"
   ]
  }
 ],
 "metadata": {
  "kernelspec": {
   "display_name": "Python 3 (ipykernel)",
   "language": "python",
   "name": "python3"
  },
  "language_info": {
   "codemirror_mode": {
    "name": "ipython",
    "version": 3
   },
   "file_extension": ".py",
   "mimetype": "text/x-python",
   "name": "python",
   "nbconvert_exporter": "python",
   "pygments_lexer": "ipython3",
   "version": "3.12.5"
  }
 },
 "nbformat": 4,
 "nbformat_minor": 5
}
